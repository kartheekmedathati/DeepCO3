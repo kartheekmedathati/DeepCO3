{
  "nbformat": 4,
  "nbformat_minor": 0,
  "metadata": {
    "colab": {
      "name": "test_notebookshare.ipynb",
      "provenance": [],
      "collapsed_sections": [],
      "include_colab_link": true
    },
    "kernelspec": {
      "name": "python3",
      "display_name": "Python 3"
    }
  },
  "cells": [
    {
      "cell_type": "markdown",
      "metadata": {
        "id": "view-in-github",
        "colab_type": "text"
      },
      "source": [
        "<a href=\"https://colab.research.google.com/github/kartheekmedathati/DeepCO3/blob/master/test_notebookshare.ipynb\" target=\"_parent\"><img src=\"https://colab.research.google.com/assets/colab-badge.svg\" alt=\"Open In Colab\"/></a>"
      ]
    },
    {
      "cell_type": "code",
      "metadata": {
        "id": "oKkBOXF-zu0I",
        "colab_type": "code",
        "outputId": "142add2b-111c-4c85-f3a3-1e7838432539",
        "colab": {
          "base_uri": "https://localhost:8080/",
          "height": 35
        }
      },
      "source": [
        "import torch\n",
        "torch.__version__\n",
        "\n",
        "\n",
        "## Pls Add comment : Varun\n",
        "\n",
        "## Pls Add Comment : Gadde\n",
        "\n",
        "\n",
        "## Current Question\n",
        "# How to import the pretrained weights from MatConvNet? \n",
        "# I could find any saved mat file for pre-tranined weights\n"
      ],
      "execution_count": 0,
      "outputs": [
        {
          "output_type": "execute_result",
          "data": {
            "text/plain": [
              "'1.3.1'"
            ]
          },
          "metadata": {
            "tags": []
          },
          "execution_count": 1
        }
      ]
    }
  ]
}